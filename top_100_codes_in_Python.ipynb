{
  "nbformat": 4,
  "nbformat_minor": 0,
  "metadata": {
    "colab": {
      "provenance": [],
      "authorship_tag": "ABX9TyNR2EUNhcOrnNTVIpBBxDiu",
      "include_colab_link": true
    },
    "kernelspec": {
      "name": "python3",
      "display_name": "Python 3"
    },
    "language_info": {
      "name": "python"
    }
  },
  "cells": [
    {
      "cell_type": "markdown",
      "metadata": {
        "id": "view-in-github",
        "colab_type": "text"
      },
      "source": [
        "<a href=\"https://colab.research.google.com/github/Av419/Top-100-codes-in-Python/blob/main/top_100_codes_in_Python.ipynb\" target=\"_parent\"><img src=\"https://colab.research.google.com/assets/colab-badge.svg\" alt=\"Open In Colab\"/></a>"
      ]
    },
    {
      "cell_type": "markdown",
      "source": [
        "## To check a number is +ve or -ve"
      ],
      "metadata": {
        "id": "r4L2bIlKQYd_"
      }
    },
    {
      "cell_type": "code",
      "execution_count": null,
      "metadata": {
        "colab": {
          "base_uri": "https://localhost:8080/"
        },
        "id": "3izM7b-bQBXf",
        "outputId": "4383dbc3-257d-4ed2-cb27-d351a0be3ac3"
      },
      "outputs": [
        {
          "output_type": "stream",
          "name": "stdout",
          "text": [
            "-3\n",
            "-ve number\n"
          ]
        }
      ],
      "source": [
        "a= int(input())\n",
        "if a>0:\n",
        "  print(\"+ve number\")\n",
        "else:\n",
        "  print(\"-ve number\")"
      ]
    },
    {
      "cell_type": "markdown",
      "source": [
        "## to check a number is odd or even"
      ],
      "metadata": {
        "id": "z9yD2mfZRH2O"
      }
    },
    {
      "cell_type": "code",
      "source": [
        "a = int(input())\n",
        "if a%2==0:\n",
        "  print(\"even \")\n",
        "else:\n",
        "  print(\"odd\")"
      ],
      "metadata": {
        "colab": {
          "base_uri": "https://localhost:8080/"
        },
        "id": "7gTKcE4hRMY9",
        "outputId": "8418d6fa-4a43-4209-b90d-b31eb93d9ad6"
      },
      "execution_count": null,
      "outputs": [
        {
          "output_type": "stream",
          "name": "stdout",
          "text": [
            "5\n",
            "odd\n"
          ]
        }
      ]
    },
    {
      "cell_type": "markdown",
      "source": [
        "## Sum of first n natural numbers"
      ],
      "metadata": {
        "id": "QKId-SEnRdNb"
      }
    },
    {
      "cell_type": "code",
      "source": [
        "n= int(input())\n",
        "sum = 0\n",
        "for i in range(1,n+1):\n",
        "  sum=sum+i\n",
        "  print(sum)\n"
      ],
      "metadata": {
        "colab": {
          "base_uri": "https://localhost:8080/"
        },
        "id": "AI6BQz2XRya9",
        "outputId": "fa05ed8d-7a9a-47bf-875c-dde454b0e858"
      },
      "execution_count": null,
      "outputs": [
        {
          "output_type": "stream",
          "name": "stdout",
          "text": [
            "8\n",
            "1\n",
            "3\n",
            "6\n",
            "10\n",
            "15\n",
            "21\n",
            "28\n",
            "36\n"
          ]
        }
      ]
    },
    {
      "cell_type": "code",
      "source": [
        "sum=0\n",
        "for i in range(2,6):\n",
        "  sum=sum+i\n",
        "  print(sum,end=\" \")\n"
      ],
      "metadata": {
        "colab": {
          "base_uri": "https://localhost:8080/"
        },
        "id": "Njy_0qWFVc8m",
        "outputId": "9c154678-e269-4e62-9644-5dacce801195"
      },
      "execution_count": null,
      "outputs": [
        {
          "output_type": "stream",
          "name": "stdout",
          "text": [
            "2 5 9 14 "
          ]
        }
      ]
    },
    {
      "cell_type": "markdown",
      "source": [
        "## Greatest of 2 numbers"
      ],
      "metadata": {
        "id": "TRWMivQmWffh"
      }
    },
    {
      "cell_type": "code",
      "source": [
        "a=int(input())\n",
        "b=int(input())\n",
        "if a>b:\n",
        "  print(a)\n",
        "else:\n",
        "  print(b)"
      ],
      "metadata": {
        "colab": {
          "base_uri": "https://localhost:8080/"
        },
        "id": "LfDGNHuDWkf_",
        "outputId": "a5e8b45f-6381-43ba-f0c1-bde614abf4ab"
      },
      "execution_count": null,
      "outputs": [
        {
          "output_type": "stream",
          "name": "stdout",
          "text": [
            "20\n",
            "40\n",
            "40\n"
          ]
        }
      ]
    },
    {
      "cell_type": "markdown",
      "source": [
        "## Greatest of 3 numbers"
      ],
      "metadata": {
        "id": "bTdpnDZMXFCJ"
      }
    },
    {
      "cell_type": "code",
      "source": [
        "a=int(input())\n",
        "b=int(input())\n",
        "c=int(input())\n",
        "if a>b and a>c:\n",
        "  print(a)\n",
        "elif b>a and b>c:\n",
        "  print(b)\n",
        "else:\n",
        "  print(c)"
      ],
      "metadata": {
        "colab": {
          "base_uri": "https://localhost:8080/"
        },
        "id": "2_g8FMlDXJ3j",
        "outputId": "1a1e2983-5094-42e0-dc46-55db826d45cc"
      },
      "execution_count": null,
      "outputs": [
        {
          "output_type": "stream",
          "name": "stdout",
          "text": [
            "5\n",
            "7\n",
            "9\n",
            "9\n"
          ]
        }
      ]
    },
    {
      "cell_type": "markdown",
      "source": [
        "## Leap Year code"
      ],
      "metadata": {
        "id": "Ink_P-suX4H0"
      }
    },
    {
      "cell_type": "code",
      "source": [
        "year = int(input())\n",
        "if (year % 400==0) or ( year%4==0 and year %100 !=0):\n",
        "  print(\"leap year \")\n",
        "else:\n",
        "    print(\"not leap year\")\n",
        "\n"
      ],
      "metadata": {
        "id": "A_PyLz9hX9YJ",
        "colab": {
          "base_uri": "https://localhost:8080/"
        },
        "outputId": "8b8353a0-61a5-42f2-a8cf-73150ad4e59b"
      },
      "execution_count": null,
      "outputs": [
        {
          "output_type": "stream",
          "name": "stdout",
          "text": [
            "2020\n",
            "leap year \n"
          ]
        }
      ]
    },
    {
      "cell_type": "markdown",
      "source": [
        "## Prime Number"
      ],
      "metadata": {
        "id": "cMtS_GDDdjf0"
      }
    },
    {
      "cell_type": "code",
      "source": [
        "num = int(input())\n",
        "flag = 0\n",
        "for i in range(2,num):\n",
        "  if num%i==0:\n",
        "    flag=1\n",
        "    break\n",
        "if flag == 0:\n",
        "  print(\"prime number\")\n",
        "else:\n",
        "  print(\"not prime\")"
      ],
      "metadata": {
        "colab": {
          "base_uri": "https://localhost:8080/"
        },
        "id": "s-O0A1Gydl9E",
        "outputId": "ef5dc6da-86fe-4c7f-8509-993767cd00fa"
      },
      "execution_count": null,
      "outputs": [
        {
          "output_type": "stream",
          "name": "stdout",
          "text": [
            "5\n",
            "prime number\n"
          ]
        }
      ]
    },
    {
      "cell_type": "code",
      "source": [
        "word = input()\n",
        "d = int(input())\n",
        "temp = word[d:] + word[0:d]\n",
        "print(temp)\n"
      ],
      "metadata": {
        "colab": {
          "base_uri": "https://localhost:8080/"
        },
        "id": "zasynOJIEP1D",
        "outputId": "47df87b0-e7b8-4598-9d0d-10822658cfd3"
      },
      "execution_count": null,
      "outputs": [
        {
          "output_type": "stream",
          "name": "stdout",
          "text": [
            "lloheereth\n",
            "2\n",
            "oheerethll\n"
          ]
        }
      ]
    },
    {
      "cell_type": "markdown",
      "source": [
        "## First N natural numbers"
      ],
      "metadata": {
        "id": "wnfCE0lxBuqO"
      }
    },
    {
      "cell_type": "code",
      "source": [
        "n = int(input())\n",
        "for n in range(1,n+1):\n",
        "  print(n,end=\" \")"
      ],
      "metadata": {
        "colab": {
          "base_uri": "https://localhost:8080/"
        },
        "id": "CBtxianjByqS",
        "outputId": "0e0846c2-aafd-4f34-9db2-f8c5342e4a8d"
      },
      "execution_count": null,
      "outputs": [
        {
          "output_type": "stream",
          "name": "stdout",
          "text": [
            "10\n",
            "1 2 3 4 5 6 7 8 9 10 "
          ]
        }
      ]
    },
    {
      "cell_type": "markdown",
      "source": [
        "## Voting System"
      ],
      "metadata": {
        "id": "SR06xi1iDvYf"
      }
    },
    {
      "cell_type": "code",
      "source": [
        "age = int(input())\n",
        "if age >= 18:\n",
        "  print(\"Vote\")\n",
        "else:\n",
        "  print(\"not eligible\")"
      ],
      "metadata": {
        "colab": {
          "base_uri": "https://localhost:8080/"
        },
        "id": "LPF28IDgDuaf",
        "outputId": "4ebb251d-11bd-46f1-879d-7c76b209c816"
      },
      "execution_count": null,
      "outputs": [
        {
          "output_type": "stream",
          "name": "stdout",
          "text": [
            "15\n",
            "not eligible\n"
          ]
        }
      ]
    },
    {
      "cell_type": "markdown",
      "source": [
        "## Postive/Negative number"
      ],
      "metadata": {
        "id": "2QHkgbKEE7VC"
      }
    },
    {
      "cell_type": "code",
      "source": [
        "num = int(input())\n",
        "if num >0:\n",
        "  print(\"Positive\")\n",
        "elif num == 0:\n",
        "  print(\"Zero\")\n",
        "else:\n",
        "  print(\"Negative\")"
      ],
      "metadata": {
        "colab": {
          "base_uri": "https://localhost:8080/"
        },
        "id": "ahALuidRFAYt",
        "outputId": "fd6e4064-97c7-4004-83ee-9862343e37b7"
      },
      "execution_count": null,
      "outputs": [
        {
          "output_type": "stream",
          "name": "stdout",
          "text": [
            "89\n",
            "Positive\n"
          ]
        }
      ]
    },
    {
      "cell_type": "markdown",
      "source": [
        "## Sum of Digits of a number"
      ],
      "metadata": {
        "id": "ydI6mKjNc7gq"
      }
    },
    {
      "cell_type": "code",
      "source": [
        "n = 3240\n",
        "sum = 0\n",
        "while n>0:\n",
        "  i = n%10\n",
        "  n = n//10\n",
        "  sum = sum + i\n",
        "print(sum)\n",
        "\n",
        "\n",
        "\n"
      ],
      "metadata": {
        "colab": {
          "base_uri": "https://localhost:8080/"
        },
        "id": "qC6hoIKqNVVT",
        "outputId": "7723d9e3-83d5-4094-a585-323f091d45ec"
      },
      "execution_count": null,
      "outputs": [
        {
          "output_type": "stream",
          "name": "stdout",
          "text": [
            "9\n"
          ]
        }
      ]
    },
    {
      "cell_type": "markdown",
      "source": [
        "## Reverse of a Number"
      ],
      "metadata": {
        "id": "Ay0nQLjMel9M"
      }
    },
    {
      "cell_type": "code",
      "source": [
        "n = 123\n",
        "while n>0:\n",
        "  i = n%10\n",
        "  n = n//10\n",
        "  print(i,end = \"\")"
      ],
      "metadata": {
        "colab": {
          "base_uri": "https://localhost:8080/"
        },
        "id": "hxnmhvEkeo8g",
        "outputId": "8aa6c1b4-6489-4f72-88e7-b42026577ef1"
      },
      "execution_count": null,
      "outputs": [
        {
          "output_type": "stream",
          "name": "stdout",
          "text": [
            "321"
          ]
        }
      ]
    },
    {
      "cell_type": "markdown",
      "source": [
        "## Count frequency of a digit in a number"
      ],
      "metadata": {
        "id": "ms0Mj-z_jxOL"
      }
    },
    {
      "cell_type": "code",
      "source": [
        "num = int(input())\n",
        "count = 0\n",
        "while num>0:\n",
        "  i = num%10\n",
        "  if i==5:\n",
        "    count = count+1\n",
        "  num = num//10\n",
        "print(count)\n"
      ],
      "metadata": {
        "colab": {
          "base_uri": "https://localhost:8080/"
        },
        "id": "hyzdGkUij1zW",
        "outputId": "9e88e285-3861-44a5-c6c4-ff4a07bffc6f"
      },
      "execution_count": null,
      "outputs": [
        {
          "output_type": "stream",
          "name": "stdout",
          "text": [
            "55555\n",
            "5\n"
          ]
        }
      ]
    },
    {
      "cell_type": "markdown",
      "source": [
        "## printing cube root of a number"
      ],
      "metadata": {
        "id": "tdCY8h77LeET"
      }
    },
    {
      "cell_type": "code",
      "source": [
        "a = 27\n",
        "print(a**(1/3))"
      ],
      "metadata": {
        "colab": {
          "base_uri": "https://localhost:8080/"
        },
        "id": "gYYIz1IIIfgY",
        "outputId": "ab4d7d26-f990-4152-dc09-0d5d057a3d5e"
      },
      "execution_count": null,
      "outputs": [
        {
          "output_type": "stream",
          "name": "stdout",
          "text": [
            "3.0\n"
          ]
        }
      ]
    },
    {
      "cell_type": "markdown",
      "source": [
        "## printing table of a given number"
      ],
      "metadata": {
        "id": "O2Gwpw8KMcNP"
      }
    },
    {
      "cell_type": "code",
      "source": [
        "a = 2\n",
        "for i in range(1,11):\n",
        "  prod = a*i\n",
        "  print(\"2 X {} = {}\".format(i,prod))"
      ],
      "metadata": {
        "colab": {
          "base_uri": "https://localhost:8080/"
        },
        "id": "JPBVIfveLhwW",
        "outputId": "86513152-cd73-4e3d-a963-22aa3a7d0584"
      },
      "execution_count": null,
      "outputs": [
        {
          "output_type": "stream",
          "name": "stdout",
          "text": [
            "2 X 1 = 2\n",
            "2 X 2 = 4\n",
            "2 X 3 = 6\n",
            "2 X 4 = 8\n",
            "2 X 5 = 10\n",
            "2 X 6 = 12\n",
            "2 X 7 = 14\n",
            "2 X 8 = 16\n",
            "2 X 9 = 18\n",
            "2 X 10 = 20\n"
          ]
        }
      ]
    },
    {
      "cell_type": "markdown",
      "source": [
        "## printing power of a number program without using in-built function"
      ],
      "metadata": {
        "id": "lYWzvpE-erp_"
      }
    },
    {
      "cell_type": "code",
      "source": [
        "a = 2\n",
        "b = 3\n",
        "result = 1\n",
        "i = 1\n",
        "while i<=b:\n",
        "  result = result * a\n",
        "  i = i+1\n",
        "print(result)"
      ],
      "metadata": {
        "colab": {
          "base_uri": "https://localhost:8080/"
        },
        "id": "YfoMI7u3by47",
        "outputId": "2432eaab-5dd5-457f-c552-c73a1a51d05c"
      },
      "execution_count": null,
      "outputs": [
        {
          "output_type": "stream",
          "name": "stdout",
          "text": [
            "8\n"
          ]
        }
      ]
    },
    {
      "cell_type": "code",
      "source": [
        "for i in range(1,11):\n",
        "  if i%5==0:\n",
        "    continue\n",
        "  print(i)"
      ],
      "metadata": {
        "colab": {
          "base_uri": "https://localhost:8080/"
        },
        "id": "vkLQqPcynrFm",
        "outputId": "a8c69ad6-6757-4885-9371-6409e905d2a6"
      },
      "execution_count": null,
      "outputs": [
        {
          "output_type": "stream",
          "name": "stdout",
          "text": [
            "1\n",
            "2\n",
            "3\n",
            "4\n",
            "6\n",
            "7\n",
            "8\n",
            "9\n"
          ]
        }
      ]
    },
    {
      "cell_type": "code",
      "source": [
        "\n",
        "for i in range(5):\n",
        "  for j in range(i+1):\n",
        "    print(1,end = \" \")\n",
        "  print()"
      ],
      "metadata": {
        "colab": {
          "base_uri": "https://localhost:8080/"
        },
        "id": "3RBSE0ZmEwH6",
        "outputId": "8052c387-82f7-46e8-9ba1-16d4658bfa0f"
      },
      "execution_count": null,
      "outputs": [
        {
          "output_type": "stream",
          "name": "stdout",
          "text": [
            "1 \n",
            "1 1 \n",
            "1 1 1 \n",
            "1 1 1 1 \n",
            "1 1 1 1 1 \n"
          ]
        }
      ]
    },
    {
      "cell_type": "code",
      "source": [
        "for i in range(5):\n",
        "  for j in range(1,i+2):\n",
        "    print(j,end=\" \")\n",
        "  print()"
      ],
      "metadata": {
        "colab": {
          "base_uri": "https://localhost:8080/"
        },
        "id": "Z8NjoBBt5rd3",
        "outputId": "7c81623f-2b83-4187-db50-89c5730e2af6"
      },
      "execution_count": null,
      "outputs": [
        {
          "output_type": "stream",
          "name": "stdout",
          "text": [
            "1 \n",
            "1 2 \n",
            "1 2 3 \n",
            "1 2 3 4 \n",
            "1 2 3 4 5 \n"
          ]
        }
      ]
    },
    {
      "cell_type": "code",
      "source": [
        "for i in range(5,0,-1):\n",
        "  for j in range(1,i+1):\n",
        "    print(j,end=\" \")\n",
        "  print()"
      ],
      "metadata": {
        "colab": {
          "base_uri": "https://localhost:8080/"
        },
        "id": "X0JsiINPyFEn",
        "outputId": "3ce9905c-f1de-4b21-d863-573995fbf7c4"
      },
      "execution_count": null,
      "outputs": [
        {
          "output_type": "stream",
          "name": "stdout",
          "text": [
            "1 2 3 4 5 \n",
            "1 2 3 4 \n",
            "1 2 3 \n",
            "1 2 \n",
            "1 \n"
          ]
        }
      ]
    },
    {
      "cell_type": "code",
      "source": [
        "n=28\n",
        "i=2\n",
        "if n%i==0:\n",
        "  print(i)"
      ],
      "metadata": {
        "colab": {
          "base_uri": "https://localhost:8080/"
        },
        "id": "oCIS9Qh842AF",
        "outputId": "17d96f45-7808-4f1b-cb98-00684bc6d6cc"
      },
      "execution_count": null,
      "outputs": [
        {
          "output_type": "stream",
          "name": "stdout",
          "text": [
            "2\n"
          ]
        }
      ]
    },
    {
      "cell_type": "code",
      "source": [
        "\n",
        "  n=28\n",
        "  div = 0\n",
        "  for i in range(1,n+1):\n",
        "    if n%i==0:\n",
        "      div = div+i\n",
        "    else:\n",
        "      continue\n",
        "  if div==n:\n",
        "    print(\"true\")\n",
        "  else:\n",
        "    print(\"false\")\n"
      ],
      "metadata": {
        "colab": {
          "base_uri": "https://localhost:8080/"
        },
        "id": "g7thk99H64-S",
        "outputId": "e1f3d132-3773-4859-8a44-0e5c945ace1b"
      },
      "execution_count": null,
      "outputs": [
        {
          "output_type": "stream",
          "name": "stdout",
          "text": [
            "false\n"
          ]
        }
      ]
    },
    {
      "cell_type": "code",
      "source": [
        "# palindrome == madam = madam\n",
        "a = input()\n",
        "list = list(a)\n",
        "for i in range(list,-1):\n",
        "\n",
        "\n"
      ],
      "metadata": {
        "colab": {
          "base_uri": "https://localhost:8080/"
        },
        "id": "xwP90Q4d37ta",
        "outputId": "baf2c8f3-669b-4472-90d5-dcd6710053bf"
      },
      "execution_count": null,
      "outputs": [
        {
          "output_type": "stream",
          "name": "stdout",
          "text": [
            "madam\n",
            "madam\n"
          ]
        }
      ]
    },
    {
      "cell_type": "code",
      "source": [
        "quantity,rate= map(int,input.split())\n",
        "price = quantity * rate\n",
        "discount = abs(20/100*price)\n",
        "discounted_amount = price - discount\n",
        "if quantity>100:\n",
        "  print(discounted_amount)\n",
        "else:\n",
        "  print(price)\n"
      ],
      "metadata": {
        "colab": {
          "base_uri": "https://localhost:8080/"
        },
        "id": "78ACwyamVnOK",
        "outputId": "4b364777-e993-44b3-88df-46cc07dd260f"
      },
      "execution_count": null,
      "outputs": [
        {
          "output_type": "stream",
          "name": "stdout",
          "text": [
            "16000.0\n"
          ]
        }
      ]
    },
    {
      "cell_type": "markdown",
      "source": [
        "## Plaindrome of a number"
      ],
      "metadata": {
        "id": "gdArGG9wBc0C"
      }
    },
    {
      "cell_type": "code",
      "source": [
        "n=121121\n",
        "temp = n\n",
        "rev = 0\n",
        "while n>0:\n",
        "  rem = n%10\n",
        "  rev = (rev*10)+rem\n",
        "  n=n//10\n",
        "\n",
        "if rev==temp:\n",
        "  print(\"Palindrome\")\n",
        "else:\n",
        "  print(\"No\")\n",
        "\n",
        "\n"
      ],
      "metadata": {
        "colab": {
          "base_uri": "https://localhost:8080/"
        },
        "id": "Lzr4wzrzguGL",
        "outputId": "812b150d-a8a0-4c8e-911a-16112fb61366"
      },
      "execution_count": null,
      "outputs": [
        {
          "output_type": "stream",
          "name": "stdout",
          "text": [
            "Palindrome\n"
          ]
        }
      ]
    },
    {
      "cell_type": "markdown",
      "source": [
        "## Prime Number"
      ],
      "metadata": {
        "id": "3H5FHTklyZG3"
      }
    },
    {
      "cell_type": "code",
      "source": [
        "n = 3\n",
        "flag = 0\n",
        "for i in range(2,n):\n",
        "  if n%i==0:\n",
        "    flag=flag+1\n",
        "    break\n",
        "if flag==1:\n",
        "  print(\"composite number\")\n",
        "else:\n",
        "    print(\"prime number\")\n"
      ],
      "metadata": {
        "colab": {
          "base_uri": "https://localhost:8080/"
        },
        "id": "DjxuC0hzBhW6",
        "outputId": "54bac1d9-6504-4f50-f8e7-0697d753e883"
      },
      "execution_count": null,
      "outputs": [
        {
          "output_type": "stream",
          "name": "stdout",
          "text": [
            "prime number\n"
          ]
        }
      ]
    },
    {
      "cell_type": "markdown",
      "source": [
        "## Armstrong Number\n",
        "## 370 = 3^3 + 7^3 + 0^3 = 370"
      ],
      "metadata": {
        "id": "I98pbGZ6ydH2"
      }
    },
    {
      "cell_type": "code",
      "source": [
        "number = 370\n",
        "num = number\n",
        "digit, sum = 0, 0\n",
        "length = len(str(num))\n",
        "for i in range(length):\n",
        "  digit = int(num%10)\n",
        "  num = num/10\n",
        "  sum += pow(digit,length)\n",
        "if sum==number:\n",
        "  print(\"Armstrong\")\n",
        "else:\n",
        "  print(\"Not Armstrong\")\n"
      ],
      "metadata": {
        "colab": {
          "base_uri": "https://localhost:8080/"
        },
        "id": "RyC5MlqJy1tu",
        "outputId": "2c6a0dbf-9101-4ed9-9408-786f48268c2f"
      },
      "execution_count": null,
      "outputs": [
        {
          "output_type": "stream",
          "name": "stdout",
          "text": [
            "Armstrong\n"
          ]
        }
      ]
    },
    {
      "cell_type": "code",
      "source": [
        "number = 370\n",
        "num = number\n",
        "digit,sum = 0,0\n",
        "length = len(str(num))\n",
        "for i in range(length):\n",
        "    digit = int(num%10)\n",
        "    num = num//10\n",
        "    sum = sum+pow(digit,length)\n",
        "if sum == number:\n",
        "    print(\"Armstrong\")\n",
        "else:\n",
        "    print(\"No\")"
      ],
      "metadata": {
        "colab": {
          "base_uri": "https://localhost:8080/"
        },
        "id": "JB2rn5GxpVQM",
        "outputId": "fcc25014-2572-4fde-99cc-205cbe0778d8"
      },
      "execution_count": null,
      "outputs": [
        {
          "output_type": "stream",
          "name": "stdout",
          "text": [
            "Armstrong\n"
          ]
        }
      ]
    },
    {
      "cell_type": "markdown",
      "source": [
        "##Array Problem Solving\n",
        "##RIGHT ROTATION OF ARRAY(Reversal Algorithm)"
      ],
      "metadata": {
        "id": "DkRTjUx27PIy"
      }
    },
    {
      "cell_type": "code",
      "source": [
        "def reverseRightAlgo(arr,i,j):\n",
        "  while i<j:\n",
        "    temp=arr[i]\n",
        "    arr[i]=arr[j]\n",
        "    arr[j]=temp\n",
        "    i=i+1\n",
        "    j=j-1\n",
        "\n",
        "def printArray(arr):\n",
        "  for i in range(len(arr)):\n",
        "    print(arr[i],end=\" \")\n",
        "\n",
        "\n",
        "\n",
        "def main():\n",
        "  n=7\n",
        "  k=3\n",
        "  arr=[1,2,3,4,5,6,7]\n",
        "  reverseRightAlgo(arr,n-k,n-1)\n",
        "  reverseRightAlgo(arr,0,n-k-1)\n",
        "  reverseRightAlgo(arr,0,n-1)\n",
        "  printArray(arr)\n",
        "\n",
        "if __name__==\"__main__\":\n",
        "  main()"
      ],
      "metadata": {
        "colab": {
          "base_uri": "https://localhost:8080/"
        },
        "id": "5V1JQs65DyiW",
        "outputId": "ee448d7b-de26-40dd-e425-f65342e1363d"
      },
      "execution_count": null,
      "outputs": [
        {
          "output_type": "stream",
          "name": "stdout",
          "text": [
            "5 6 7 1 2 3 4 "
          ]
        }
      ]
    },
    {
      "cell_type": "markdown",
      "source": [
        "## Left Rotation of Array\n"
      ],
      "metadata": {
        "id": "2U1tvCEx7qYN"
      }
    },
    {
      "cell_type": "code",
      "source": [
        "def reverseLeftAlgo(arr,i,j):\n",
        "  while i<j:\n",
        "\n",
        "    temp=arr[i]\n",
        "    arr[i]=arr[j]\n",
        "    arr[j]=temp\n",
        "    i=i+1\n",
        "    j=j-1\n",
        "\n",
        "def printArray(arr):\n",
        "  for i in range(len(arr)):\n",
        "    print(arr[i],end=\" \")\n",
        "  print()\n",
        "\n",
        "\n",
        "\n",
        "\n",
        "def main():\n",
        "  n=7\n",
        "  k=3\n",
        "  arr=[1,2,3,4,5,6,7]\n",
        "  reverseLeftAlgo(arr,0,k-1)\n",
        "  reverseLeftAlgo(arr,k,n-1)\n",
        "  reverseLeftAlgo(arr,0,n-1)\n",
        "  printArray(arr)\n",
        "\n",
        "if __name__==\"__main__\":\n",
        "  main()"
      ],
      "metadata": {
        "colab": {
          "base_uri": "https://localhost:8080/"
        },
        "id": "DDHbDF5Q7zIu",
        "outputId": "8eac4cbe-bd91-4f42-92f6-079b38d0bc88"
      },
      "execution_count": 3,
      "outputs": [
        {
          "output_type": "stream",
          "name": "stdout",
          "text": [
            "4 5 6 7 1 2 3 \n"
          ]
        }
      ]
    }
  ]
}