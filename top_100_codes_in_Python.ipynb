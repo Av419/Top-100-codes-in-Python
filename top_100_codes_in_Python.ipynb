{
  "nbformat": 4,
  "nbformat_minor": 0,
  "metadata": {
    "colab": {
      "provenance": [],
      "authorship_tag": "ABX9TyOLikbfuHGAuAxP1ui2H3o/",
      "include_colab_link": true
    },
    "kernelspec": {
      "name": "python3",
      "display_name": "Python 3"
    },
    "language_info": {
      "name": "python"
    }
  },
  "cells": [
    {
      "cell_type": "markdown",
      "metadata": {
        "id": "view-in-github",
        "colab_type": "text"
      },
      "source": [
        "<a href=\"https://colab.research.google.com/github/Av419/Top-100-codes-in-Python/blob/main/top_100_codes_in_Python.ipynb\" target=\"_parent\"><img src=\"https://colab.research.google.com/assets/colab-badge.svg\" alt=\"Open In Colab\"/></a>"
      ]
    },
    {
      "cell_type": "markdown",
      "source": [
        "## To check a number is +ve or -ve"
      ],
      "metadata": {
        "id": "r4L2bIlKQYd_"
      }
    },
    {
      "cell_type": "code",
      "execution_count": null,
      "metadata": {
        "colab": {
          "base_uri": "https://localhost:8080/"
        },
        "id": "3izM7b-bQBXf",
        "outputId": "4383dbc3-257d-4ed2-cb27-d351a0be3ac3"
      },
      "outputs": [
        {
          "output_type": "stream",
          "name": "stdout",
          "text": [
            "-3\n",
            "-ve number\n"
          ]
        }
      ],
      "source": [
        "a= int(input())\n",
        "if a>0:\n",
        "  print(\"+ve number\")\n",
        "else:\n",
        "  print(\"-ve number\")"
      ]
    },
    {
      "cell_type": "markdown",
      "source": [
        "## to check a number is odd or even"
      ],
      "metadata": {
        "id": "z9yD2mfZRH2O"
      }
    },
    {
      "cell_type": "code",
      "source": [
        "a = int(input())\n",
        "if a%2==0:\n",
        "  print(\"even \")\n",
        "else:\n",
        "  print(\"odd\")"
      ],
      "metadata": {
        "colab": {
          "base_uri": "https://localhost:8080/"
        },
        "id": "7gTKcE4hRMY9",
        "outputId": "8418d6fa-4a43-4209-b90d-b31eb93d9ad6"
      },
      "execution_count": null,
      "outputs": [
        {
          "output_type": "stream",
          "name": "stdout",
          "text": [
            "5\n",
            "odd\n"
          ]
        }
      ]
    },
    {
      "cell_type": "markdown",
      "source": [
        "## Sum of first n natural numbers"
      ],
      "metadata": {
        "id": "QKId-SEnRdNb"
      }
    },
    {
      "cell_type": "code",
      "source": [
        "n= int(input())\n",
        "sum = 0\n",
        "for i in range(1,n+1):\n",
        "  sum=sum+i\n",
        "  print(sum)\n"
      ],
      "metadata": {
        "colab": {
          "base_uri": "https://localhost:8080/"
        },
        "id": "AI6BQz2XRya9",
        "outputId": "fa05ed8d-7a9a-47bf-875c-dde454b0e858"
      },
      "execution_count": null,
      "outputs": [
        {
          "output_type": "stream",
          "name": "stdout",
          "text": [
            "8\n",
            "1\n",
            "3\n",
            "6\n",
            "10\n",
            "15\n",
            "21\n",
            "28\n",
            "36\n"
          ]
        }
      ]
    },
    {
      "cell_type": "code",
      "source": [
        "sum=0\n",
        "for i in range(2,6):\n",
        "  sum=sum+i\n",
        "  print(sum,end=\" \")\n"
      ],
      "metadata": {
        "colab": {
          "base_uri": "https://localhost:8080/"
        },
        "id": "Njy_0qWFVc8m",
        "outputId": "9c154678-e269-4e62-9644-5dacce801195"
      },
      "execution_count": null,
      "outputs": [
        {
          "output_type": "stream",
          "name": "stdout",
          "text": [
            "2 5 9 14 "
          ]
        }
      ]
    },
    {
      "cell_type": "markdown",
      "source": [
        "## Greatest of 2 numbers"
      ],
      "metadata": {
        "id": "TRWMivQmWffh"
      }
    },
    {
      "cell_type": "code",
      "source": [
        "a=int(input())\n",
        "b=int(input())\n",
        "if a>b:\n",
        "  print(a)\n",
        "else:\n",
        "  print(b)"
      ],
      "metadata": {
        "colab": {
          "base_uri": "https://localhost:8080/"
        },
        "id": "LfDGNHuDWkf_",
        "outputId": "a5e8b45f-6381-43ba-f0c1-bde614abf4ab"
      },
      "execution_count": null,
      "outputs": [
        {
          "output_type": "stream",
          "name": "stdout",
          "text": [
            "20\n",
            "40\n",
            "40\n"
          ]
        }
      ]
    },
    {
      "cell_type": "markdown",
      "source": [
        "## Greatest of 3 numbers"
      ],
      "metadata": {
        "id": "bTdpnDZMXFCJ"
      }
    },
    {
      "cell_type": "code",
      "source": [
        "a=int(input())\n",
        "b=int(input())\n",
        "c=int(input())\n",
        "if a>b and a>c:\n",
        "  print(a)\n",
        "elif b>a and b>c:\n",
        "  print(b)\n",
        "else:\n",
        "  print(c)"
      ],
      "metadata": {
        "colab": {
          "base_uri": "https://localhost:8080/"
        },
        "id": "2_g8FMlDXJ3j",
        "outputId": "1a1e2983-5094-42e0-dc46-55db826d45cc"
      },
      "execution_count": null,
      "outputs": [
        {
          "output_type": "stream",
          "name": "stdout",
          "text": [
            "5\n",
            "7\n",
            "9\n",
            "9\n"
          ]
        }
      ]
    },
    {
      "cell_type": "markdown",
      "source": [
        "## Leap Year code"
      ],
      "metadata": {
        "id": "Ink_P-suX4H0"
      }
    },
    {
      "cell_type": "code",
      "source": [
        "year = int(input())\n",
        "if (year % 400==0) or ( year%4==0 and year %100 !=0):\n",
        "  print(\"leap year \")\n",
        "else:\n",
        "    print(\"not leap year\")\n",
        "\n"
      ],
      "metadata": {
        "id": "A_PyLz9hX9YJ",
        "colab": {
          "base_uri": "https://localhost:8080/"
        },
        "outputId": "8b8353a0-61a5-42f2-a8cf-73150ad4e59b"
      },
      "execution_count": 6,
      "outputs": [
        {
          "output_type": "stream",
          "name": "stdout",
          "text": [
            "2020\n",
            "leap year \n"
          ]
        }
      ]
    },
    {
      "cell_type": "markdown",
      "source": [
        "## Prime Number"
      ],
      "metadata": {
        "id": "cMtS_GDDdjf0"
      }
    },
    {
      "cell_type": "code",
      "source": [
        "num = int(input())\n",
        "flag = 0\n",
        "for i in range(2,num):\n",
        "  if num%i==0:\n",
        "    flag=1\n",
        "    break\n",
        "if flag == 0:\n",
        "  print(\"prime number\")\n",
        "else:\n",
        "  print(\"not prime\")"
      ],
      "metadata": {
        "colab": {
          "base_uri": "https://localhost:8080/"
        },
        "id": "s-O0A1Gydl9E",
        "outputId": "ef5dc6da-86fe-4c7f-8509-993767cd00fa"
      },
      "execution_count": 3,
      "outputs": [
        {
          "output_type": "stream",
          "name": "stdout",
          "text": [
            "5\n",
            "prime number\n"
          ]
        }
      ]
    },
    {
      "cell_type": "code",
      "source": [
        "word = input()\n",
        "d = int(input())\n",
        "temp = word[d:] + word[0:d]\n",
        "print(temp)\n"
      ],
      "metadata": {
        "colab": {
          "base_uri": "https://localhost:8080/"
        },
        "id": "zasynOJIEP1D",
        "outputId": "47df87b0-e7b8-4598-9d0d-10822658cfd3"
      },
      "execution_count": 7,
      "outputs": [
        {
          "output_type": "stream",
          "name": "stdout",
          "text": [
            "lloheereth\n",
            "2\n",
            "oheerethll\n"
          ]
        }
      ]
    },
    {
      "cell_type": "markdown",
      "source": [
        "## First N natural numbers"
      ],
      "metadata": {
        "id": "wnfCE0lxBuqO"
      }
    },
    {
      "cell_type": "code",
      "source": [
        "n = int(input())\n",
        "for n in range(1,n+1):\n",
        "  print(n,end=\" \")"
      ],
      "metadata": {
        "colab": {
          "base_uri": "https://localhost:8080/"
        },
        "id": "CBtxianjByqS",
        "outputId": "0e0846c2-aafd-4f34-9db2-f8c5342e4a8d"
      },
      "execution_count": 2,
      "outputs": [
        {
          "output_type": "stream",
          "name": "stdout",
          "text": [
            "10\n",
            "1 2 3 4 5 6 7 8 9 10 "
          ]
        }
      ]
    },
    {
      "cell_type": "markdown",
      "source": [
        "## Voting System"
      ],
      "metadata": {
        "id": "SR06xi1iDvYf"
      }
    },
    {
      "cell_type": "code",
      "source": [
        "age = int(input())\n",
        "if age >= 18:\n",
        "  print(\"Vote\")\n",
        "else:\n",
        "  print(\"not eligible\")"
      ],
      "metadata": {
        "colab": {
          "base_uri": "https://localhost:8080/"
        },
        "id": "LPF28IDgDuaf",
        "outputId": "4ebb251d-11bd-46f1-879d-7c76b209c816"
      },
      "execution_count": 4,
      "outputs": [
        {
          "output_type": "stream",
          "name": "stdout",
          "text": [
            "15\n",
            "not eligible\n"
          ]
        }
      ]
    },
    {
      "cell_type": "markdown",
      "source": [
        "## Postive/Negative number"
      ],
      "metadata": {
        "id": "2QHkgbKEE7VC"
      }
    },
    {
      "cell_type": "code",
      "source": [
        "num = int(input())\n",
        "if num >0:\n",
        "  print(\"Positive\")\n",
        "elif num == 0:\n",
        "  print(\"Zero\")\n",
        "else:\n",
        "  print(\"Negative\")"
      ],
      "metadata": {
        "colab": {
          "base_uri": "https://localhost:8080/"
        },
        "id": "ahALuidRFAYt",
        "outputId": "fd6e4064-97c7-4004-83ee-9862343e37b7"
      },
      "execution_count": 7,
      "outputs": [
        {
          "output_type": "stream",
          "name": "stdout",
          "text": [
            "89\n",
            "Positive\n"
          ]
        }
      ]
    }
  ]
}